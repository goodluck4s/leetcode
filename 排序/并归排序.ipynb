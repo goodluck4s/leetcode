{
 "cells": [
  {
   "cell_type": "code",
   "execution_count": 1,
   "metadata": {},
   "outputs": [
    {
     "name": "stdout",
     "output_type": "stream",
     "text": [
      "[3, 4, 5, 7, 8, 9]\n"
     ]
    }
   ],
   "source": [
    "def merge(a, b):\n",
    "    res = []\n",
    "    ap = bp = 0\n",
    "    while ap < len(a) and bp < len(b):\n",
    "        if a[ap] < b[bp]:\n",
    "            res.append(a[ap])\n",
    "            ap += 1\n",
    "        else:\n",
    "            res.append(b[bp])\n",
    "            bp += 1\n",
    "\n",
    "    if ap == len(a): #说明a全加res里去了\n",
    "        for i in b[bp:]:\n",
    "            res.append(i)\n",
    "    else:\n",
    "        for i in a[ap:]:\n",
    "            res.append(i)\n",
    "\n",
    "    return res\n",
    "\n",
    "\n",
    "def merge_sort(lists):\n",
    "    if len(lists) <= 1:\n",
    "        return lists\n",
    "    middle = int(len(lists)/2)\n",
    "    \n",
    "    left = merge_sort(lists[:middle])\n",
    "    right = merge_sort(lists[middle:])\n",
    "    return merge(left, right)\n",
    "\n",
    "\n",
    "if __name__ == '__main__':\n",
    "    a = [4, 7, 8, 3, 5, 9]\n",
    "    print(merge_sort(a))"
   ]
  },
  {
   "cell_type": "code",
   "execution_count": null,
   "metadata": {},
   "outputs": [],
   "source": []
  }
 ],
 "metadata": {
  "kernelspec": {
   "display_name": "Python 3",
   "language": "python",
   "name": "python3"
  },
  "language_info": {
   "codemirror_mode": {
    "name": "ipython",
    "version": 3
   },
   "file_extension": ".py",
   "mimetype": "text/x-python",
   "name": "python",
   "nbconvert_exporter": "python",
   "pygments_lexer": "ipython3",
   "version": "3.7.6"
  }
 },
 "nbformat": 4,
 "nbformat_minor": 4
}
