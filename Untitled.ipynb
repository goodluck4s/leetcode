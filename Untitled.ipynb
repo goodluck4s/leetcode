{
 "cells": [
  {
   "cell_type": "markdown",
   "metadata": {},
   "source": [
    "给定 n 个非负整数表示每个宽度为 1 的柱子的高度图，计算按此排列的柱子，下雨之后能接多少雨水。\n",
    "\n",
    "上面是由数组 [0,1,0,2,1,0,1,3,2,1,2,1] 表示的高度图，在这种情况下，可以接 6 个单位的雨水（蓝色部分表示雨水）。 感谢 Marcos 贡献此图。\n",
    "\n",
    "示例:\n",
    "\n",
    "输入: [0,1,0,2,1,0,1,3,2,1,2,1]\n",
    "输出: 6\n"
   ]
  },
  {
   "cell_type": "code",
   "execution_count": null,
   "metadata": {},
   "outputs": [],
   "source": [
    "int trap(vector<int>& height)\n",
    "{\n",
    "    int ans = 0, current = 0;\n",
    "    stack<int> st;\n",
    "    while (current < height.size()) {\n",
    "        while (!st.empty() && height[current] > height[st.top()]) {\n",
    "            int top = st.top();\n",
    "            st.pop();\n",
    "            if (st.empty())\n",
    "                break;\n",
    "            int distance = current - st.top() - 1;\n",
    "            int bounded_height = min(height[current], height[st.top()]) - height[top];\n",
    "            ans += distance * bounded_height;\n",
    "        }\n",
    "        st.push(current++);\n",
    "    }\n",
    "    return ans;\n",
    "}\n"
   ]
  },
  {
   "cell_type": "code",
   "execution_count": null,
   "metadata": {},
   "outputs": [],
   "source": [
    "class Solution(object):\n",
    "    def trap(self, height):\n",
    "        \"\"\"\n",
    "        :type height: List[int]\n",
    "        :rtype: int\n",
    "        \"\"\""
   ]
  }
 ],
 "metadata": {
  "kernelspec": {
   "display_name": "Python 3",
   "language": "python",
   "name": "python3"
  },
  "language_info": {
   "codemirror_mode": {
    "name": "ipython",
    "version": 3
   },
   "file_extension": ".py",
   "mimetype": "text/x-python",
   "name": "python",
   "nbconvert_exporter": "python",
   "pygments_lexer": "ipython3",
   "version": "3.7.6"
  }
 },
 "nbformat": 4,
 "nbformat_minor": 4
}
