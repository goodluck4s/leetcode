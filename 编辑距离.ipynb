{
 "cells": [
  {
   "cell_type": "markdown",
   "metadata": {},
   "source": [
    "给你两个单词 word1 和 word2，请你计算出将 word1 转换成 word2 所使用的最少操作数 。\n",
    "\n",
    "你可以对一个单词进行如下三种操作：\n",
    "\n",
    "    插入一个字符\n",
    "    删除一个字符\n",
    "    替换一个字符\n",
    "\n",
    " ```\n",
    "\n",
    "示例 1：\n",
    "\n",
    "输入：word1 = \"horse\", word2 = \"ros\"\n",
    "输出：3\n",
    "解释：\n",
    "horse -> rorse (将 'h' 替换为 'r')\n",
    "rorse -> rose (删除 'r')\n",
    "rose -> ros (删除 'e')\n",
    "\n",
    "示例 2：\n",
    "\n",
    "输入：word1 = \"intention\", word2 = \"execution\"\n",
    "输出：5\n",
    "解释：\n",
    "intention -> inention (删除 't')\n",
    "inention -> enention (将 'i' 替换为 'e')\n",
    "enention -> exention (将 'n' 替换为 'x')\n",
    "exention -> exection (将 'n' 替换为 'c')\n",
    "exection -> execution (插入 'u')\n",
    "```"
   ]
  },
  {
   "cell_type": "markdown",
   "metadata": {},
   "source": [
    "# 递归版"
   ]
  },
  {
   "cell_type": "code",
   "execution_count": 1,
   "metadata": {},
   "outputs": [],
   "source": [
    "class Solution(object):\n",
    "    def minDistance(self, word1, word2):\n",
    "        \n",
    "        if len(word1)==0:\n",
    "            return len(word2)\n",
    "        if len(word2)==0:\n",
    "            return len(word1)\n",
    "        temp=0 if word1[-1]==word2[-1] else 1\n",
    "        return min(self.minDistance(word1[:-1],word2)+1,\n",
    "                   self.minDistance(word1,word2[:-1])+1,\n",
    "                self.minDistance(word1[:-1],word2[:-1])+temp)"
   ]
  },
  {
   "cell_type": "code",
   "execution_count": 5,
   "metadata": {},
   "outputs": [
    {
     "data": {
      "text/plain": [
       "1"
      ]
     },
     "execution_count": 5,
     "metadata": {},
     "output_type": "execute_result"
    }
   ],
   "source": [
    "Solution().minDistance(\"abx\",\"abc\")"
   ]
  },
  {
   "cell_type": "markdown",
   "metadata": {},
   "source": [
    "# 非递归版"
   ]
  },
  {
   "cell_type": "markdown",
   "metadata": {},
   "source": [
    "需要记录一个矩阵"
   ]
  },
  {
   "cell_type": "code",
   "execution_count": 5,
   "metadata": {},
   "outputs": [],
   "source": [
    "class Solution(object):\n",
    "    def minDistance(self, word1, word2):\n",
    "        if len(word1)==0:\n",
    "            return len(word2)\n",
    "        if len(word2)==0:\n",
    "            return len(word1)\n",
    "        temp=[[0]*(len(word1)+1) for i in range(len(word2)+1)]\n",
    "        \n",
    "        temp[0]=[i for i in range(len(word1)+1)]\n",
    "        \n",
    "        for j in range(len(word2)+1):\n",
    "            temp[j][0] = j\n",
    "        print(temp)\n",
    "        \n",
    "        # 这里注意ij别弄反了\n",
    "        for i in range(1,len(word2)+1):\n",
    "            for j in range(1,len(word1)+1):\n",
    "                a=temp[i-1][j]+1\n",
    "                b=temp[i][j-1]+1\n",
    "                c=temp[i-1][j-1]+(0 if word1[j-1]==word2[i-1] else 1)\n",
    "                temp[i][j]=min(a,b,c)\n",
    "        print(temp)\n",
    "        return temp[i][j]"
   ]
  },
  {
   "cell_type": "code",
   "execution_count": 6,
   "metadata": {},
   "outputs": [
    {
     "name": "stdout",
     "output_type": "stream",
     "text": [
      "[[0, 1, 2, 3], [1, 0, 0, 0], [2, 0, 0, 0], [3, 0, 0, 0]]\n",
      "[[0, 1, 2, 3], [1, 0, 1, 2], [2, 1, 0, 1], [3, 2, 1, 1]]\n"
     ]
    },
    {
     "data": {
      "text/plain": [
       "1"
      ]
     },
     "execution_count": 6,
     "metadata": {},
     "output_type": "execute_result"
    }
   ],
   "source": [
    "Solution().minDistance(\"abx\",\"abc\")"
   ]
  },
  {
   "cell_type": "code",
   "execution_count": null,
   "metadata": {},
   "outputs": [],
   "source": []
  }
 ],
 "metadata": {
  "kernelspec": {
   "display_name": "Python 3",
   "language": "python",
   "name": "python3"
  },
  "language_info": {
   "codemirror_mode": {
    "name": "ipython",
    "version": 3
   },
   "file_extension": ".py",
   "mimetype": "text/x-python",
   "name": "python",
   "nbconvert_exporter": "python",
   "pygments_lexer": "ipython3",
   "version": "3.7.6"
  }
 },
 "nbformat": 4,
 "nbformat_minor": 4
}
