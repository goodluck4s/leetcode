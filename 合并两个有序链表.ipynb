{
 "cells": [
  {
   "cell_type": "markdown",
   "metadata": {},
   "source": [
    "将两个升序链表合并为一个新的升序链表并返回。新链表是通过拼接给定的两个链表的所有节点组成的。 \n",
    "\n",
    "示例：\n",
    "```\n",
    "输入：1->2->4, 1->3->4\n",
    "输出：1->1->2->3->4->4\n",
    "```\n"
   ]
  },
  {
   "cell_type": "code",
   "execution_count": 6,
   "metadata": {},
   "outputs": [],
   "source": [
    "# Definition for singly-linked list.\n",
    "class ListNode(object):\n",
    "    def __init__(self, x):\n",
    "        self.val = x\n",
    "        self.next = None\n",
    "\n",
    "class Solution(object):\n",
    "    def mergeTwoLists(self, l1, l2):\n",
    "        \"\"\"\n",
    "        :type l1: ListNode\n",
    "        :type l2: ListNode\n",
    "        :rtype: ListNode\n",
    "        \"\"\"\n",
    "        if l1 == None:\n",
    "            return l2\n",
    "        if l2 == None:\n",
    "            return l1\n",
    "        res = ListNode(-1)\n",
    "        cur = res\n",
    "        p1,p2=l1,l2\n",
    "        while True:\n",
    "            if p1.val<p2.val:\n",
    "                cur.next=p1\n",
    "                cur=cur.next\n",
    "                if p1.next!=None:\n",
    "                    p1=p1.next\n",
    "                    \n",
    "                else:\n",
    "                    cur.next=p2\n",
    "                    return res.next\n",
    "\n",
    "            else:\n",
    "                cur.next=p2\n",
    "                cur=cur.next\n",
    "                if p2.next!=None:\n",
    "                    p2=p2.next\n",
    "                    \n",
    "                else:\n",
    "                    cur.next=p1\n",
    "                    return res.next\n",
    "        "
   ]
  },
  {
   "cell_type": "code",
   "execution_count": null,
   "metadata": {},
   "outputs": [],
   "source": []
  }
 ],
 "metadata": {
  "kernelspec": {
   "display_name": "Python 3",
   "language": "python",
   "name": "python3"
  },
  "language_info": {
   "codemirror_mode": {
    "name": "ipython",
    "version": 3
   },
   "file_extension": ".py",
   "mimetype": "text/x-python",
   "name": "python",
   "nbconvert_exporter": "python",
   "pygments_lexer": "ipython3",
   "version": "3.7.6"
  }
 },
 "nbformat": 4,
 "nbformat_minor": 4
}
